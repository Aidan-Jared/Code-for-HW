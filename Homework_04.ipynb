{
 "cells": [
  {
   "cell_type": "markdown",
   "metadata": {},
   "source": [
    "#1.1\n",
    "\n",
    "this would print [ True  True  True  True  True], you could achive this also by\n",
    "a = 10**np.arange(0, 2, .2)"
   ]
  },
  {
   "cell_type": "markdown",
   "metadata": {},
   "source": [
    "#1.2"
   ]
  },
  {
   "cell_type": "code",
   "execution_count": 3,
   "metadata": {
    "collapsed": false
   },
   "outputs": [
    {
     "data": {
      "text/plain": [
       "(-4, 4)"
      ]
     },
     "execution_count": 3,
     "metadata": {},
     "output_type": "execute_result"
    },
    {
     "data": {
      "image/png": "[encoded data removed]",
      "text/plain": [
       "<matplotlib.figure.Figure at 0xab3d6a0>"
      ]
     },
     "metadata": {},
     "output_type": "display_data"
    }
   ],
   "source": [
    "import numpy as np\n",
    "import matplotlib.pyplot as plt\n",
    "%matplotlib inline\n",
    "x=np.linspace(-4, 4, 100)\n",
    "y=x**2 + 1\n",
    "plt.plot(x, y, 'k')\n",
    "plt.xlim(-4,4)"
   ]
  },
  {
   "cell_type": "code",
   "execution_count": 27,
   "metadata": {
    "collapsed": false
   },
   "outputs": [
    {
     "name": "stdout",
     "output_type": "stream",
     "text": [
      "  x  |  n\n",
      "-4.00|0.00\n",
      "-3.90|0.00\n",
      "-3.80|0.00\n",
      "-3.70|0.00\n",
      "-3.60|0.00\n",
      "-3.51|0.00\n",
      "-3.41|0.00\n",
      "-3.31|0.00\n",
      "-3.21|0.00\n",
      "-3.11|0.00\n",
      "-3.01|0.00\n",
      "-2.91|0.00\n",
      "-2.81|0.00\n",
      "-2.72|0.00\n",
      "-2.62|0.00\n",
      "-2.52|0.00\n",
      "-2.42|0.00\n",
      "-2.32|0.00\n",
      "-2.22|0.00\n",
      "-2.12|0.00\n",
      "-2.02|0.00\n",
      "-1.93|0.00\n",
      "-1.83|0.00\n",
      "-1.73|0.00\n",
      "-1.63|0.00\n",
      "-1.53|0.00\n",
      "-1.43|0.00\n",
      "-1.33|0.01\n",
      "-1.23|0.02\n",
      "-1.14|0.03\n",
      "-1.04|0.05\n",
      "-0.94|0.09\n",
      "-0.84|0.14\n",
      "-0.74|0.22\n",
      "-0.64|0.32\n",
      "-0.54|0.44\n",
      "-0.44|0.58\n",
      "-0.35|0.72\n",
      "-0.25|0.85\n",
      "-0.15|0.94\n",
      "-0.05|0.99\n",
      "0.05|0.99\n",
      "0.15|0.94\n",
      "0.25|0.85\n",
      "0.35|0.72\n",
      "0.44|0.58\n",
      "0.54|0.44\n",
      "0.64|0.32\n",
      "0.74|0.22\n",
      "0.84|0.14\n",
      "0.94|0.09\n",
      "1.04|0.05\n",
      "1.14|0.03\n",
      "1.23|0.02\n",
      "1.33|0.01\n",
      "1.43|0.00\n",
      "1.53|0.00\n",
      "1.63|0.00\n",
      "1.73|0.00\n",
      "1.83|0.00\n",
      "1.93|0.00\n",
      "2.02|0.00\n",
      "2.12|0.00\n",
      "2.22|0.00\n",
      "2.32|0.00\n",
      "2.42|0.00\n",
      "2.52|0.00\n",
      "2.62|0.00\n",
      "2.72|0.00\n",
      "2.81|0.00\n",
      "2.91|0.00\n",
      "3.01|0.00\n",
      "3.11|0.00\n",
      "3.21|0.00\n",
      "3.31|0.00\n",
      "3.41|0.00\n",
      "3.51|0.00\n",
      "3.60|0.00\n",
      "3.70|0.00\n",
      "3.80|0.00\n",
      "3.90|0.00\n",
      "4.00|0.00\n"
     ]
    }
   ],
   "source": [
    "import math\n",
    "print \"  x  |  n\"\n",
    "xlist=range(0,82)\n",
    "g = -4.\n",
    "for x in xlist:\n",
    "    g = -4. + 8 * x / 81.\n",
    "    n= math.exp(-(g)**2/(2*.426**2))\n",
    "    print \"%.2f|%.2f\" %(g, n)"
   ]
  },
  {
   "cell_type": "code",
   "execution_count": 6,
   "metadata": {
    "collapsed": false,
    "scrolled": false
   },
   "outputs": [
    {
     "name": "stdout",
     "output_type": "stream",
     "text": [
      "  x  |  n\n",
      "-4.00|0.00\n",
      "-3.90|0.00\n",
      "-3.80|0.00\n",
      "-3.70|0.00\n",
      "-3.60|0.00\n",
      "-3.50|0.00\n",
      "-3.40|0.00\n",
      "-3.30|0.00\n",
      "-3.20|0.00\n",
      "-3.10|0.00\n",
      "-3.00|0.00\n",
      "-2.90|0.00\n",
      "-2.80|0.00\n",
      "-2.70|0.00\n",
      "-2.60|0.00\n",
      "-2.50|0.00\n",
      "-2.40|0.00\n",
      "-2.30|0.00\n",
      "-2.20|0.00\n",
      "-2.10|0.00\n",
      "-2.00|0.00\n",
      "-1.90|0.00\n",
      "-1.80|0.00\n",
      "-1.70|0.00\n",
      "-1.60|0.00\n",
      "-1.50|0.00\n",
      "-1.40|0.00\n",
      "-1.30|0.01\n",
      "-1.20|0.02\n",
      "-1.10|0.04\n",
      "-1.00|0.06\n",
      "-0.90|0.11\n",
      "-0.80|0.17\n",
      "-0.70|0.26\n",
      "-0.60|0.37\n",
      "-0.50|0.50\n",
      "-0.40|0.64\n",
      "-0.30|0.78\n",
      "-0.20|0.90\n",
      "-0.10|0.97\n",
      "0.00|1.00\n",
      "0.10|0.97\n",
      "0.20|0.90\n",
      "0.30|0.78\n",
      "0.40|0.64\n",
      "0.50|0.50\n",
      "0.60|0.37\n",
      "0.70|0.26\n",
      "0.80|0.17\n",
      "0.90|0.11\n",
      "1.00|0.06\n",
      "1.10|0.04\n",
      "1.20|0.02\n",
      "1.30|0.01\n",
      "1.40|0.00\n",
      "1.50|0.00\n",
      "1.60|0.00\n",
      "1.70|0.00\n",
      "1.80|0.00\n",
      "1.90|0.00\n",
      "2.00|0.00\n",
      "2.10|0.00\n",
      "2.20|0.00\n",
      "2.30|0.00\n",
      "2.40|0.00\n",
      "2.50|0.00\n",
      "2.60|0.00\n",
      "2.70|0.00\n",
      "2.80|0.00\n",
      "2.90|0.00\n",
      "3.00|0.00\n",
      "3.10|0.00\n",
      "3.20|0.00\n",
      "3.30|0.00\n",
      "3.40|0.00\n",
      "3.50|0.00\n",
      "3.60|0.00\n",
      "3.70|0.00\n",
      "3.80|0.00\n",
      "3.90|0.00\n",
      "4.00|0.00\n"
     ]
    }
   ],
   "source": [
    "print \"  x  |  n\"\n",
    "xlist= np.linspace(-4,4,81)\n",
    "for x in xlist:\n",
    "    n= np.exp(-(x)**2/(2*.426**2))\n",
    "    print \"%.2f|%.2f\" %(x,n)"
   ]
  },
  {
   "cell_type": "code",
   "execution_count": 29,
   "metadata": {
    "collapsed": false
   },
   "outputs": [
    {
     "data": {
      "text/plain": [
       "(-4, 4)"
      ]
     },
     "execution_count": 29,
     "metadata": {},
     "output_type": "execute_result"
    },
    {
     "data": {
      "image/png": "[encoded data removed]",
      "text/plain": [
       "<matplotlib.figure.Figure at 0xd40e588>"
      ]
     },
     "metadata": {},
     "output_type": "display_data"
    }
   ],
   "source": [
    "plt.plot(xl, nx)\n",
    "plt.xlim(-4,4)"
   ]
  },
  {
   "cell_type": "code",
   "execution_count": 33,
   "metadata": {
    "collapsed": false
   },
   "outputs": [],
   "source": [
    "v=np.array([2,3,-1])\n"
   ]
  },
  {
   "cell_type": "code",
   "execution_count": null,
   "metadata": {
    "collapsed": true
   },
   "outputs": [],
   "source": []
  }
 ],
 "metadata": {
  "kernelspec": {
   "display_name": "Python 2",
   "language": "python",
   "name": "python2"
  },
  "language_info": {
   "codemirror_mode": {
    "name": "ipython",
    "version": 2
   },
   "file_extension": ".py",
   "mimetype": "text/x-python",
   "name": "python",
   "nbconvert_exporter": "python",
   "pygments_lexer": "ipython2",
   "version": "2.7.10"
  }
 },
 "nbformat": 4,
 "nbformat_minor": 0
}
